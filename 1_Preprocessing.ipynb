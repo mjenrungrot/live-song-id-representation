{
 "cells": [
  {
   "cell_type": "code",
   "execution_count": 1,
   "metadata": {},
   "outputs": [],
   "source": [
    "import os\n",
    "import librosa\n",
    "import glob\n",
    "import json\n",
    "import numpy as np\n",
    "from preprocess import get_allpaths, preprocess\n",
    "from utils      import load_config, load_logger, load_parallel_pool, generateOutputCQTList"
   ]
  },
  {
   "cell_type": "code",
   "execution_count": 2,
   "metadata": {},
   "outputs": [
    {
     "name": "stderr",
     "output_type": "stream",
     "text": [
      "/home/mirlab/miniconda3/lib/python3.6/site-packages/ipyparallel/client/client.py:458: RuntimeWarning: \n",
      "            Controller appears to be listening on localhost, but not on this machine.\n",
      "            If this is true, you should specify Client(...,sshserver='you@mirlab')\n",
      "            or instruct your controller to listen on an external IP.\n",
      "  RuntimeWarning)\n"
     ]
    }
   ],
   "source": [
    "config = load_config()\n",
    "logger = load_logger()\n",
    "c      = load_parallel_pool()"
   ]
  },
  {
   "cell_type": "code",
   "execution_count": 3,
   "metadata": {},
   "outputs": [],
   "source": [
    "def create_db_refs(ref_file, artist):\n",
    "    import librosa \n",
    "    import os\n",
    "    import numpy as np\n",
    "    \n",
    "    audio_file = os.path.join(config['AUDIO_DIR'], ref_file + '.wav')\n",
    "    y, sr = librosa.load(audio_file)\n",
    "    Q = librosa.cqt(y, sr=sr, fmin=130.81, n_bins=121, bins_per_octave=24, hop_length=96)\n",
    "    \n",
    "    # Preprocess CQT to logQ\n",
    "    ds = 3\n",
    "    absQ = np.absolute(Q)\n",
    "    smoothQ = np.zeros((absQ.shape[0], absQ.shape[1]//ds))\n",
    "    for row in range(absQ.shape[0]):\n",
    "        smoothQ[row] = np.convolve(absQ[row], [1/ds]*ds, 'valid')[0:absQ.shape[1]-ds+1:ds]\n",
    "    logQ = np.log(1+1000000*smoothQ)\n",
    "    \n",
    "    output_file = os.path.join(config[\"DATA_OUTPUT_DIR\"], ref_file + '.npy')\n",
    "    np.save(output_file, logQ)\n",
    "    return None"
   ]
  },
  {
   "cell_type": "code",
   "execution_count": 8,
   "metadata": {},
   "outputs": [
    {
     "name": "stdout",
     "output_type": "stream",
     "text": [
      "  12/12 tasks finished after   82 s\n",
      "done\n",
      "2018-03-10 18:43:30,654 - root - DEBUG - Finish loading CQT for foofighters (82.750434s taken)\n"
     ]
    }
   ],
   "source": [
    "for artist in config['artists']:\n",
    "    ref_files = get_allpaths(artist, os.path.join(config['AUDIO_DIR'], 'Lists/'))\n",
    "    c[:].push(dict(config=config, \n",
    "                   artist=artist,\n",
    "                   create_db_refs=create_db_refs))\n",
    "    output = c[:].map(lambda x: create_db_refs(x, artist), ref_files)\n",
    "    output.wait_interactive()\n",
    "    logger.debug(\"Finish loading CQT for {:} ({:}s taken)\".format(artist, output.elapsed))\n",
    "    \n",
    "    f = open(generateOutputCQTList(config[\"DATA_OUTPUT_DIR\"], artist), 'w')\n",
    "    for file in ref_files:\n",
    "        f.write(file + '.npy\\n')\n",
    "    f.close()"
   ]
  },
  {
   "cell_type": "code",
   "execution_count": null,
   "metadata": {},
   "outputs": [],
   "source": []
  }
 ],
 "metadata": {
  "kernelspec": {
   "display_name": "Python 3",
   "language": "python",
   "name": "python3"
  },
  "language_info": {
   "codemirror_mode": {
    "name": "ipython",
    "version": 3
   },
   "file_extension": ".py",
   "mimetype": "text/x-python",
   "name": "python",
   "nbconvert_exporter": "python",
   "pygments_lexer": "ipython3",
   "version": "3.6.3"
  }
 },
 "nbformat": 4,
 "nbformat_minor": 2
}
